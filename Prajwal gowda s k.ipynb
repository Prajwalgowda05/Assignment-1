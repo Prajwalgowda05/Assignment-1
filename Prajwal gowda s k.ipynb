{
 "cells": [
  {
   "cell_type": "markdown",
   "id": "2d80f37b-425e-42a9-acef-1b1418d90574",
   "metadata": {},
   "source": [
    "                                                       PYTHON ASSIGNMENT 1\n",
    "                                                       PRAJWAL GOWDA S K"
   ]
  },
  {
   "cell_type": "code",
   "execution_count": 1,
   "id": "6d8e92cb-d50b-41be-855e-6a946ec2f47a",
   "metadata": {},
   "outputs": [
    {
     "name": "stdin",
     "output_type": "stream",
     "text": [
      "Enter a number:  224\n"
     ]
    },
    {
     "name": "stdout",
     "output_type": "stream",
     "text": [
      "224 is an even number\n"
     ]
    }
   ],
   "source": [
    "##EVEN OR ODD NUMBER\n",
    "n = int(input(\"Enter a number: \"))\n",
    "a=n%2\n",
    "if(a==0):\n",
    "    print(n,\"is an even number\")\n",
    "else:\n",
    "    print(n,\"is an odd number\")\n"
   ]
  },
  {
   "cell_type": "code",
   "execution_count": 2,
   "id": "9100d0b0-0c95-4ee1-9a29-add9111ee62f",
   "metadata": {},
   "outputs": [
    {
     "name": "stdin",
     "output_type": "stream",
     "text": [
      "Enter a number: -18\n"
     ]
    },
    {
     "name": "stdout",
     "output_type": "stream",
     "text": [
      "-18 is a negative integer\n"
     ]
    }
   ],
   "source": [
    "##POSITIVE OR NEGATIVE INTEGER\n",
    "m = int(input(\"Enter a number:\"))\n",
    "if(m>0):\n",
    "    print(m,\"is a positive integer\")\n",
    "elif(m==0):\n",
    "    print(m,\"is zero\")\n",
    "else:\n",
    "    print(m,\"is a negative integer\")"
   ]
  },
  {
   "cell_type": "code",
   "execution_count": 4,
   "id": "ca2e96b9-d8ba-4bb5-aa55-fa8eafe01ed3",
   "metadata": {},
   "outputs": [
    {
     "name": "stdin",
     "output_type": "stream",
     "text": [
      "Enter a number: 34\n"
     ]
    },
    {
     "name": "stdout",
     "output_type": "stream",
     "text": [
      "34 is not a prime number\n"
     ]
    }
   ],
   "source": [
    "##PRIME NUMBERS\n",
    "def prime(number):\n",
    "    if number <= 1:\n",
    "        return False\n",
    "    for i in range(2, int(number**0.5) + 1):\n",
    "        if number % i == 0:\n",
    "            return False\n",
    "    return True     \n",
    "        \n",
    "\n",
    "num = int(input(\"Enter a number:\"))\n",
    "if prime(num):\n",
    "    print(f\"{num} is a prime number\")\n",
    "else:\n",
    "    print(f\"{num} is not a prime number\")"
   ]
  },
  {
   "cell_type": "code",
   "execution_count": 5,
   "id": "4b33d036-3b40-4b50-a410-babfd50886ff",
   "metadata": {},
   "outputs": [
    {
     "name": "stdin",
     "output_type": "stream",
     "text": [
      "Enter a word: malayalam\n"
     ]
    },
    {
     "name": "stdout",
     "output_type": "stream",
     "text": [
      "malayalam is a palindrome\n"
     ]
    }
   ],
   "source": [
    "##Palindrome\n",
    "word = input(\"Enter a word:\")\n",
    "word = word.lower()\n",
    "word1 = word[::-1]\n",
    "if(word==word1):\n",
    "    print(word,\"is a palindrome\")\n",
    "else:\n",
    "    print(word,\"is not a palindrome\")"
   ]
  },
  {
   "cell_type": "code",
   "execution_count": 6,
   "id": "91344ff9-ae28-4bec-a197-da731d939a74",
   "metadata": {},
   "outputs": [
    {
     "name": "stdin",
     "output_type": "stream",
     "text": [
      "Enter number 1:  18\n",
      "Enter number 2:  7\n"
     ]
    },
    {
     "name": "stdout",
     "output_type": "stream",
     "text": [
      "the sum of 18 and 7 is 25\n"
     ]
    }
   ],
   "source": [
    "##Sum of 2 numbers\n",
    "a = int(input(\"Enter number 1: \"))\n",
    "b = int(input(\"Enter number 2: \"))\n",
    "c = a+b\n",
    "print(\"the sum of\",a,\"and\",b,\"is\",c)"
   ]
  },
  {
   "cell_type": "code",
   "execution_count": 7,
   "id": "afceff82-a484-4681-88fa-4cbc9659d9b2",
   "metadata": {},
   "outputs": [
    {
     "name": "stdin",
     "output_type": "stream",
     "text": [
      "Enter number:  34\n",
      "Enter number:  43\n"
     ]
    },
    {
     "name": "stdout",
     "output_type": "stream",
     "text": [
      "the sum of 34 and 43 is 77\n"
     ]
    }
   ],
   "source": [
    "##Sum of 2 numbers using functions\n",
    "def sum(a,b):\n",
    "    c = a+b\n",
    "    return c\n",
    "a = int(input(\"Enter number: \"))\n",
    "b = int(input(\"Enter number: \"))\n",
    "print(\"the sum of\",a,\"and\",b,\"is\",sum(a,b))"
   ]
  },
  {
   "cell_type": "code",
   "execution_count": 9,
   "id": "c936eb57-9adc-465d-a0d4-0dd8bfe2110e",
   "metadata": {},
   "outputs": [
    {
     "name": "stdin",
     "output_type": "stream",
     "text": [
      "Enter a number:  987\n",
      "Enter a number:  657\n"
     ]
    },
    {
     "name": "stdout",
     "output_type": "stream",
     "text": [
      "987 is greater than 657\n"
     ]
    }
   ],
   "source": [
    "##MAX OF 2 NUMBERS\n",
    "a = int(input(\"Enter a number: \"))\n",
    "b = int(input(\"Enter a number: \"))\n",
    "if(a>b):\n",
    "    print(a,\"is greater than\",b)\n",
    "else:\n",
    "    print(a,\"is lesser than\",b)"
   ]
  },
  {
   "cell_type": "code",
   "execution_count": 10,
   "id": "9be35a46-4cdd-4f87-afc0-113f5b1bda77",
   "metadata": {},
   "outputs": [
    {
     "name": "stdin",
     "output_type": "stream",
     "text": [
      "Enter a number:  65\n",
      "Enter a number:  89\n"
     ]
    },
    {
     "name": "stdout",
     "output_type": "stream",
     "text": [
      "65 is lesser than 89\n"
     ]
    }
   ],
   "source": [
    "##MIN OF 2 NUMBERS\n",
    "c = int(input(\"Enter a number: \"))\n",
    "d = int(input(\"Enter a number: \"))\n",
    "if(c<d):\n",
    "    print(c,\"is lesser than\",d)\n",
    "else:\n",
    "    print(d,\"is lesser than\",c)\n",
    "    "
   ]
  },
  {
   "cell_type": "code",
   "execution_count": 11,
   "id": "fc4e47cc-f196-442b-be6d-5bc3bd40ab76",
   "metadata": {},
   "outputs": [
    {
     "name": "stdin",
     "output_type": "stream",
     "text": [
      "Enter the Fibonacci Series length:  10\n"
     ]
    },
    {
     "name": "stdout",
     "output_type": "stream",
     "text": [
      "The Fibonacci series with 10 terms is: \n",
      "0 1 1 2 3 5 8 13 21 34 "
     ]
    }
   ],
   "source": [
    "##FIBONACCI SEQUENCE\n",
    "num = int(input(\"Enter the Fibonacci Series length: \"))\n",
    "\n",
    "a = 0\n",
    "b = 1\n",
    "\n",
    "print(\"The Fibonacci series with\", num, \"terms is: \")\n",
    "print(a, b, end=\" \")\n",
    "for i in range(2,num):\n",
    "    c = a + b\n",
    "    print(c, end=\" \")\n",
    "    a = b\n",
    "    b = c"
   ]
  },
  {
   "cell_type": "code",
   "execution_count": 12,
   "id": "60488633-0b53-4bea-aa8a-6e04ed49f11e",
   "metadata": {},
   "outputs": [
    {
     "name": "stdin",
     "output_type": "stream",
     "text": [
      "Enter the value of the factorial:  8\n"
     ]
    },
    {
     "name": "stdout",
     "output_type": "stream",
     "text": [
      "the factorial of  8 is 40320\n"
     ]
    }
   ],
   "source": [
    "def fact(num):\n",
    "    if num == 0:\n",
    "        return 1\n",
    "    else:\n",
    "        return num*fact(num-1)\n",
    "    \n",
    "num = int(input(\"Enter the value of the factorial: \"))\n",
    "print(\"the factorial of \",num,\"is\",fact(num))"
   ]
  },
  {
   "cell_type": "code",
   "execution_count": 13,
   "id": "05fca1b1-b4b1-4cea-bd12-afeda4f1f2af",
   "metadata": {},
   "outputs": [
    {
     "name": "stdin",
     "output_type": "stream",
     "text": [
      "Enter the number 1:  56\n",
      "Enter the number 2:  68\n"
     ]
    },
    {
     "name": "stdout",
     "output_type": "stream",
     "text": [
      "\n",
      " The GCD of 56 and 68 is 4\n"
     ]
    }
   ],
   "source": [
    "##GCD OF TWO NUMBERS\n",
    "\n",
    "def gcd(a,b):\n",
    "    while b:\n",
    "        a, b = b, a % b\n",
    "    return a\n",
    "\n",
    "num1 = int(input(\"Enter the number 1: \"))\n",
    "num2 = int(input(\"Enter the number 2: \"))\n",
    "print(\"\\n The GCD of\",num1,\"and\",num2,\"is\",gcd(num1, num2))"
   ]
  },
  {
   "cell_type": "code",
   "execution_count": 15,
   "id": "473ff987-80ad-469c-b282-80690c18b873",
   "metadata": {},
   "outputs": [
    {
     "name": "stdout",
     "output_type": "stream",
     "text": [
      "After swapping: \n",
      " a=  18 b=  45\n"
     ]
    }
   ],
   "source": [
    "##SWAP 2 NUMBERS\n",
    "a = 45\n",
    "b = 18\n",
    "\n",
    "temp = a\n",
    "a = b\n",
    "b = temp\n",
    "\n",
    "print(\"After swapping: \\n a= \",a,\"b= \",b)"
   ]
  },
  {
   "cell_type": "code",
   "execution_count": 17,
   "id": "50b34adc-5e26-4639-99a0-7b2b606a0f34",
   "metadata": {},
   "outputs": [
    {
     "name": "stdin",
     "output_type": "stream",
     "text": [
      "Enter any number:  45634\n"
     ]
    },
    {
     "name": "stdout",
     "output_type": "stream",
     "text": [
      "The unreversed version of a:  45634\n",
      "The reversed version of a:  43654\n"
     ]
    }
   ],
   "source": [
    "##reverse num in string\n",
    "a = int(input(\"Enter any number: \"))\n",
    "a = str(a)\n",
    "b = a[::-1]\n",
    "print(\"The unreversed version of a: \",a)\n",
    "print(\"The reversed version of a: \",b)"
   ]
  },
  {
   "cell_type": "code",
   "execution_count": 19,
   "id": "b74fc279-7c03-42b8-af01-3849fff9e9be",
   "metadata": {},
   "outputs": [
    {
     "name": "stdin",
     "output_type": "stream",
     "text": [
      "Enter a number:  34\n"
     ]
    },
    {
     "name": "stdout",
     "output_type": "stream",
     "text": [
      "The number you have entered is lower than the actual number.\n"
     ]
    },
    {
     "name": "stdin",
     "output_type": "stream",
     "text": [
      "Enter a number:  45\n"
     ]
    },
    {
     "name": "stdout",
     "output_type": "stream",
     "text": [
      "The number you have entered is lower than the actual number.\n"
     ]
    },
    {
     "name": "stdin",
     "output_type": "stream",
     "text": [
      "Enter a number:  56\n"
     ]
    },
    {
     "name": "stdout",
     "output_type": "stream",
     "text": [
      "The number you have entered is higher than the actual number\n"
     ]
    },
    {
     "name": "stdin",
     "output_type": "stream",
     "text": [
      "Enter a number:  54\n"
     ]
    },
    {
     "name": "stdout",
     "output_type": "stream",
     "text": [
      "The number you have entered is higher than the actual number\n"
     ]
    },
    {
     "name": "stdin",
     "output_type": "stream",
     "text": [
      "Enter a number:  52\n"
     ]
    },
    {
     "name": "stdout",
     "output_type": "stream",
     "text": [
      "The number you have entered is higher than the actual number\n"
     ]
    },
    {
     "name": "stdin",
     "output_type": "stream",
     "text": [
      "Enter a number:  50\n"
     ]
    },
    {
     "name": "stdout",
     "output_type": "stream",
     "text": [
      "The number you have entered is lower than the actual number.\n"
     ]
    },
    {
     "name": "stdin",
     "output_type": "stream",
     "text": [
      "Enter a number:  51\n"
     ]
    },
    {
     "name": "stdout",
     "output_type": "stream",
     "text": [
      "That is the correct answer\n"
     ]
    }
   ],
   "source": [
    "##Guessing a number using random\n",
    "import random\n",
    "num2 = random.randint(1,100)\n",
    "tries = 0\n",
    "while True:\n",
    "    num1 = int(input(\"Enter a number: \"))\n",
    "    tries += 1\n",
    "    if(num1==num2):\n",
    "        print(\"That is the correct answer\")\n",
    "        break\n",
    "    elif(num1<num2):\n",
    "        print(\"The number you have entered is lower than the actual number.\")\n",
    "    else:\n",
    "        print(\"The number you have entered is higher than the actual number\")"
   ]
  },
  {
   "cell_type": "code",
   "execution_count": null,
   "id": "aa99a380-5ea4-4c8d-8f0e-da9f7c1b1698",
   "metadata": {},
   "outputs": [],
   "source": []
  }
 ],
 "metadata": {
  "kernelspec": {
   "display_name": "Python 3 (ipykernel)",
   "language": "python",
   "name": "python3"
  },
  "language_info": {
   "codemirror_mode": {
    "name": "ipython",
    "version": 3
   },
   "file_extension": ".py",
   "mimetype": "text/x-python",
   "name": "python",
   "nbconvert_exporter": "python",
   "pygments_lexer": "ipython3",
   "version": "3.12.0"
  }
 },
 "nbformat": 4,
 "nbformat_minor": 5
}
